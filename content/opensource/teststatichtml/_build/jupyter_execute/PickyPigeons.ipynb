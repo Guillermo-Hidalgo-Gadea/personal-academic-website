{
 "cells": [
  {
   "cell_type": "markdown",
   "metadata": {},
   "source": [
    "# The Picky Pigeons\n",
    "\n",
    "This section of the course handbook has been provided as part of the final group project for the Seminar on Tracking Animal Behavior at the Ruhr-University Bochum in WS21/22.\n",
    "\n",
    "```{admonition} Project Authors\n",
    "Jil, `MSc Psychology`, Lea, `M.Sc. Psychology`, Laurin, `M.Sc. Psychology`, and Maurice, `M.Sc. Psychology`.\n",
    "```"
   ]
  },
  {
   "cell_type": "markdown",
   "metadata": {},
   "source": [
    "## Abstract"
   ]
  },
  {
   "cell_type": "markdown",
   "metadata": {},
   "source": [
    "Analyzing animal behavior has always brought up certain challenges, most of which can be overcome using the open source, markerless source estimation toolbox DeepLabCut. When performing a DeepLabCut analysis the most important decision is the number of tracking points used for training the model. \n",
    "\n",
    "To investigate how this influences the softwares confidence, we trained two models using the same dataframes but different numbers of tracking points.  We used top-view videos of eight pigeons in a cage and extracted 20 frames per video for labeling. For the less complicated model we used seven tracking points; for the more complicated model we added an extra of 15 points, resulting in overall 22 tracking points. We hypothesise the following:\n",
    "\n",
    "1. There is a lower pixel difference in the complex model.\n",
    "2. The confidence of the model is higher in the complex model.\n",
    "\n",
    "Additionally, we investigated how the different complexity levels influence the work flow of labeling the frames. Thus, each group member filled out the Flow-Kurz Skale (Rheinberg, 2000) while labeling each model. We hypothesise that:  \n",
    "\n",
    "3. The experienced flow is higher in the easy model (measured with the Flow-Kurzskala (FKS). \n",
    "\n",
    "Overall, we try to figure out, what number of tracking points yields the best balance between workload and accuracy. "
   ]
  },
  {
   "cell_type": "markdown",
   "metadata": {},
   "source": [
    "```{figure} content/Pickypigeonsfig0.svg\n",
    "---\n",
    "width: 900px\n",
    "name: Pickypigeonsfig0\n",
    "---\n",
    "Sample of test and training frames from `deeplabcut.evaluate_network()`\n",
    "```"
   ]
  },
  {
   "cell_type": "markdown",
   "metadata": {},
   "source": [
    "_________________________"
   ]
  },
  {
   "cell_type": "markdown",
   "metadata": {},
   "source": [
    "## Data Analysis\n",
    "\n",
    "### 1. pixel difference/confidence of model: \n",
    "First, we describe descriptively the mean pixel errors in both models.  \n",
    "The simple model resulted for 1030000  training iterations with a p-cutoff of 0.6 in a test error of 6.7 pixels whereas the complex model resulted in a test error of 6.5 pixels. That means, the complex model was in average 0.2 pixels better in predicting the points.\n",
    "Although it may be not statistically significant there seems to be a tendency of higher confidence and lower mean pixel error in the complex model than in the easy model. This is contrary to our proposed hypothesis.  \n",
    "\n",
    "### 2. flow:\n",
    "Here, we describe our results of our questionnaire to experienced flow.  \n",
    "In the easy model the average flow experience was 50 (range: 7-70), while in the complex model it was 53.25. Besides the flow experience we assessed the concern about the exercise via the flow-scale, resulting in an average of 10 (range: 3-30) in the easy model and an average of 11 in the complex model.  \n",
    "That said, contrary to our hypothesis, the flow seemed to be higher in labeling the complex model instead of the easy model.\n",
    "\n",
    "### 3. explorative: Position in space \n",
    "We chose the backcenter point as the point to track the position of the pigeon in space. This point is enclosed in both models which enables a comparison of the models. For comparison, we plot the positions in a scatter plot."
   ]
  },
  {
   "cell_type": "markdown",
   "metadata": {},
   "source": [
    "First, import packages and define file, how to read file, and relevant information of file."
   ]
  },
  {
   "cell_type": "code",
   "execution_count": 1,
   "metadata": {},
   "outputs": [],
   "source": [
    "# import relevant packages\n",
    "import pandas as pd\n",
    "import numpy as np\n",
    "import matplotlib.pyplot as plt"
   ]
  },
  {
   "cell_type": "code",
   "execution_count": 2,
   "metadata": {},
   "outputs": [],
   "source": [
    "# define file that is used, how and what to read of the csv file, and define which columns are used in coords\n",
    "file = 'C:/Users/USER/Documents/Picky_Pigeon_Project-The_Picky_Pigeons-2021-12-17/videos/166_filtered - Kopie.csv'\n",
    "data = pd.read_csv(file, header=0) #headings of the columns are = row 0\n",
    "coords = data.loc[:,data.columns.str.contains('backcenter')] #all rows and all columns that contain backcenter define coords"
   ]
  },
  {
   "cell_type": "code",
   "execution_count": 3,
   "metadata": {
    "scrolled": true,
    "tags": []
   },
   "outputs": [
    {
     "data": {
      "text/html": [
       "<div>\n",
       "<style scoped>\n",
       "    .dataframe tbody tr th:only-of-type {\n",
       "        vertical-align: middle;\n",
       "    }\n",
       "\n",
       "    .dataframe tbody tr th {\n",
       "        vertical-align: top;\n",
       "    }\n",
       "\n",
       "    .dataframe thead th {\n",
       "        text-align: right;\n",
       "    }\n",
       "</style>\n",
       "<table border=\"1\" class=\"dataframe\">\n",
       "  <thead>\n",
       "    <tr style=\"text-align: right;\">\n",
       "      <th></th>\n",
       "      <th>backcenter</th>\n",
       "      <th>backcenter.1</th>\n",
       "      <th>backcenter.2</th>\n",
       "    </tr>\n",
       "  </thead>\n",
       "  <tbody>\n",
       "    <tr>\n",
       "      <th>0</th>\n",
       "      <td>819.974548</td>\n",
       "      <td>494.949646</td>\n",
       "      <td>0.999818</td>\n",
       "    </tr>\n",
       "    <tr>\n",
       "      <th>1</th>\n",
       "      <td>819.925218</td>\n",
       "      <td>494.904734</td>\n",
       "      <td>0.999708</td>\n",
       "    </tr>\n",
       "    <tr>\n",
       "      <th>2</th>\n",
       "      <td>821.008876</td>\n",
       "      <td>495.086856</td>\n",
       "      <td>0.999528</td>\n",
       "    </tr>\n",
       "    <tr>\n",
       "      <th>3</th>\n",
       "      <td>822.399030</td>\n",
       "      <td>495.153400</td>\n",
       "      <td>0.999729</td>\n",
       "    </tr>\n",
       "    <tr>\n",
       "      <th>4</th>\n",
       "      <td>823.219302</td>\n",
       "      <td>494.142786</td>\n",
       "      <td>0.999571</td>\n",
       "    </tr>\n",
       "    <tr>\n",
       "      <th>...</th>\n",
       "      <td>...</td>\n",
       "      <td>...</td>\n",
       "      <td>...</td>\n",
       "    </tr>\n",
       "    <tr>\n",
       "      <th>71920</th>\n",
       "      <td>564.234147</td>\n",
       "      <td>517.139613</td>\n",
       "      <td>0.999623</td>\n",
       "    </tr>\n",
       "    <tr>\n",
       "      <th>71921</th>\n",
       "      <td>564.201800</td>\n",
       "      <td>517.161179</td>\n",
       "      <td>0.999610</td>\n",
       "    </tr>\n",
       "    <tr>\n",
       "      <th>71922</th>\n",
       "      <td>564.292883</td>\n",
       "      <td>517.262576</td>\n",
       "      <td>0.999495</td>\n",
       "    </tr>\n",
       "    <tr>\n",
       "      <th>71923</th>\n",
       "      <td>564.375360</td>\n",
       "      <td>517.289639</td>\n",
       "      <td>0.999680</td>\n",
       "    </tr>\n",
       "    <tr>\n",
       "      <th>71924</th>\n",
       "      <td>564.437141</td>\n",
       "      <td>517.552503</td>\n",
       "      <td>0.999595</td>\n",
       "    </tr>\n",
       "  </tbody>\n",
       "</table>\n",
       "<p>71925 rows × 3 columns</p>\n",
       "</div>"
      ],
      "text/plain": [
       "       backcenter  backcenter.1  backcenter.2\n",
       "0      819.974548    494.949646      0.999818\n",
       "1      819.925218    494.904734      0.999708\n",
       "2      821.008876    495.086856      0.999528\n",
       "3      822.399030    495.153400      0.999729\n",
       "4      823.219302    494.142786      0.999571\n",
       "...           ...           ...           ...\n",
       "71920  564.234147    517.139613      0.999623\n",
       "71921  564.201800    517.161179      0.999610\n",
       "71922  564.292883    517.262576      0.999495\n",
       "71923  564.375360    517.289639      0.999680\n",
       "71924  564.437141    517.552503      0.999595\n",
       "\n",
       "[71925 rows x 3 columns]"
      ]
     },
     "execution_count": 3,
     "metadata": {},
     "output_type": "execute_result"
    }
   ],
   "source": [
    "# output coords\n",
    "coords"
   ]
  },
  {
   "cell_type": "markdown",
   "metadata": {},
   "source": [
    "Here, define your first plot of position over time."
   ]
  },
  {
   "cell_type": "code",
   "execution_count": 4,
   "metadata": {},
   "outputs": [
    {
     "data": {
      "text/plain": [
       "<matplotlib.legend.Legend at 0x197ae19b760>"
      ]
     },
     "execution_count": 4,
     "metadata": {},
     "output_type": "execute_result"
    },
    {
     "data": {
      "image/png": "[encoded data removed]",
      "text/plain": [
       "<Figure size 432x288 with 1 Axes>"
      ]
     },
     "metadata": {
      "filenames": {
       "image/png": "/Users/guillermo/GitHub/Seminar-TrackingAnimalBehavior/docs/_build/jupyter_execute/PickyPigeons_11_1.png"
      },
      "needs_background": "light"
     },
     "output_type": "display_data"
    }
   ],
   "source": [
    "# define your plot with the defined coords backcenter as x values and backcenter.1 as y values and label the plot\n",
    "position_x = coords['backcenter']\n",
    "position_y = coords['backcenter.1']\n",
    "\n",
    "pos_x, = plt.plot(position_x, label='x')\n",
    "pos_y, = plt.plot(position_y, label='y')\n",
    "\n",
    "plt.xlabel('Time [frames]')\n",
    "plt.ylabel('Position [mm]')\n",
    "plt.legend()"
   ]
  },
  {
   "cell_type": "markdown",
   "metadata": {},
   "source": [
    "This is how it looks like in the complex model:"
   ]
  },
  {
   "cell_type": "code",
   "execution_count": 2,
   "metadata": {},
   "outputs": [
    {
     "data": {
      "image/png": "[encoded data removed]",
      "text/plain": [
       "<IPython.core.display.Image object>"
      ]
     },
     "execution_count": 2,
     "metadata": {
      "filenames": {
       "image/png": "/Users/guillermo/GitHub/Seminar-TrackingAnimalBehavior/docs/_build/jupyter_execute/PickyPigeons_13_0.png"
      }
     },
     "output_type": "execute_result"
    }
   ],
   "source": [
    "from IPython.display import Image\n",
    "Image(\"F:/Picky_Pigeon_Project-The_Picky_Pigeons_part2-2021-12-17/PlotComplex.png\")"
   ]
  },
  {
   "cell_type": "markdown",
   "metadata": {},
   "source": [
    "You can also define histogram plots for the x and y values each:"
   ]
  },
  {
   "cell_type": "code",
   "execution_count": 5,
   "metadata": {
    "scrolled": true
   },
   "outputs": [
    {
     "data": {
      "text/plain": [
       "<AxesSubplot:>"
      ]
     },
     "execution_count": 5,
     "metadata": {},
     "output_type": "execute_result"
    },
    {
     "data": {
      "image/png": "[encoded data removed]",
      "text/plain": [
       "<Figure size 432x288 with 1 Axes>"
      ]
     },
     "metadata": {
      "filenames": {
       "image/png": "/Users/guillermo/GitHub/Seminar-TrackingAnimalBehavior/docs/_build/jupyter_execute/PickyPigeons_15_1.png"
      },
      "needs_background": "light"
     },
     "output_type": "display_data"
    }
   ],
   "source": [
    "# histogram plot with x values\n",
    "position_x.hist()"
   ]
  },
  {
   "cell_type": "code",
   "execution_count": 6,
   "metadata": {},
   "outputs": [
    {
     "data": {
      "text/plain": [
       "<AxesSubplot:>"
      ]
     },
     "execution_count": 6,
     "metadata": {},
     "output_type": "execute_result"
    },
    {
     "data": {
      "image/png": "[encoded data removed]",
      "text/plain": [
       "<Figure size 432x288 with 1 Axes>"
      ]
     },
     "metadata": {
      "filenames": {
       "image/png": "/Users/guillermo/GitHub/Seminar-TrackingAnimalBehavior/docs/_build/jupyter_execute/PickyPigeons_16_1.png"
      },
      "needs_background": "light"
     },
     "output_type": "display_data"
    }
   ],
   "source": [
    "# histogram plot with y values\n",
    "position_y.hist()"
   ]
  },
  {
   "cell_type": "markdown",
   "metadata": {},
   "source": [
    "This is how it looks like in the complex model:"
   ]
  },
  {
   "cell_type": "code",
   "execution_count": 3,
   "metadata": {},
   "outputs": [
    {
     "data": {
      "image/png": "[encoded data removed]",
      "text/plain": [
       "<IPython.core.display.Image object>"
      ]
     },
     "execution_count": 3,
     "metadata": {
      "filenames": {
       "image/png": "/Users/guillermo/GitHub/Seminar-TrackingAnimalBehavior/docs/_build/jupyter_execute/PickyPigeons_18_0.png"
      }
     },
     "output_type": "execute_result"
    }
   ],
   "source": [
    "from IPython.display import Image\n",
    "Image(\"F:/Picky_Pigeon_Project-The_Picky_Pigeons_part2-2021-12-17/histComplex.png\")"
   ]
  },
  {
   "cell_type": "markdown",
   "metadata": {},
   "source": [
    "And finally also a scatter plot:"
   ]
  },
  {
   "cell_type": "code",
   "execution_count": 8,
   "metadata": {},
   "outputs": [
    {
     "data": {
      "image/png": "[encoded data removed]",
      "text/plain": [
       "<Figure size 432x288 with 1 Axes>"
      ]
     },
     "metadata": {
      "filenames": {
       "image/png": "/Users/guillermo/GitHub/Seminar-TrackingAnimalBehavior/docs/_build/jupyter_execute/PickyPigeons_20_0.png"
      },
      "needs_background": "light"
     },
     "output_type": "display_data"
    }
   ],
   "source": [
    "# create a 2d plot\n",
    "x = coords['backcenter']\n",
    "y = coords['backcenter.1']\n",
    "\n",
    "fig = plt.scatter(x,y,marker='o', s = 10, c='green');\n",
    "\n",
    "# adding title and labels\n",
    "plt.title(\"2D-model of backcenter in space in the easy model\")\n",
    "plt.xlabel(\"X-axis\")\n",
    "plt.ylabel(\"Y-axis\")\n",
    "\n",
    "# displaying plot\n",
    "plt.show()"
   ]
  },
  {
   "cell_type": "markdown",
   "metadata": {},
   "source": [
    "This is how it looks like in the complex model:"
   ]
  },
  {
   "cell_type": "code",
   "execution_count": 4,
   "metadata": {},
   "outputs": [
    {
     "data": {
      "image/png": "[encoded data removed]",
      "text/plain": [
       "<IPython.core.display.Image object>"
      ]
     },
     "execution_count": 4,
     "metadata": {
      "filenames": {
       "image/png": "/Users/guillermo/GitHub/Seminar-TrackingAnimalBehavior/docs/_build/jupyter_execute/PickyPigeons_22_0.png"
      }
     },
     "output_type": "execute_result"
    }
   ],
   "source": [
    "from IPython.display import Image\n",
    "Image(\"F:/Picky_Pigeon_Project-The_Picky_Pigeons_part2-2021-12-17/complexScatter.png\")"
   ]
  },
  {
   "cell_type": "markdown",
   "metadata": {},
   "source": [
    "___________________________________________________"
   ]
  },
  {
   "cell_type": "markdown",
   "metadata": {},
   "source": [
    "## Conclusion  \n",
    "\n",
    "Based on our data analysis the complex and simple model seemed not to differ significantly in accuracy of tracking. It may be that a model with more tracking points is better regarding prediction error and flow experience in a bigger study with more data. However, there may be non-linearic correlations between number of tracking points and accuracy of the model and between number of tracking points and flow-experience. There is no evidence yet and this research question is left for future research."
   ]
  },
  {
   "cell_type": "markdown",
   "metadata": {},
   "source": [
    "_______________________________________________________________________________________________________________________________"
   ]
  },
  {
   "cell_type": "markdown",
   "metadata": {},
   "source": [
    "# Notes"
   ]
  },
  {
   "cell_type": "markdown",
   "metadata": {},
   "source": [
    "_______________________________________________________________________________________________________________________________"
   ]
  },
  {
   "cell_type": "markdown",
   "metadata": {},
   "source": [
    "## For starting Deeplabcut use one of the following code cells"
   ]
  },
  {
   "cell_type": "code",
   "execution_count": null,
   "metadata": {},
   "outputs": [],
   "source": [
    "# 1. activate conda environment\n",
    "conda activate dlc\n",
    "# 2. start IPython\n",
    "ipython\n",
    "# 3. start DLC GUI\n",
    "deeplabcut.launch_dlc()"
   ]
  },
  {
   "cell_type": "markdown",
   "metadata": {},
   "source": [
    "or"
   ]
  },
  {
   "cell_type": "code",
   "execution_count": null,
   "metadata": {},
   "outputs": [],
   "source": [
    "# 1. activate conda environment\n",
    "conda activate dlc\n",
    "# 2. run deeplabcut\n",
    "python -m deeplabcut"
   ]
  },
  {
   "cell_type": "markdown",
   "metadata": {},
   "source": [
    "For opening a notebook use the following commands:"
   ]
  },
  {
   "cell_type": "code",
   "execution_count": null,
   "metadata": {},
   "outputs": [],
   "source": [
    "conda activate dlc\n",
    "cd documents\n",
    "jupyter notebook"
   ]
  },
  {
   "cell_type": "markdown",
   "metadata": {},
   "source": [
    "Remember that the notebook has to be trusted and that the Kernel has to be _conda env:dlc_\n",
    "\n",
    "For closing/ending a process type strg+c in the prompt"
   ]
  },
  {
   "cell_type": "markdown",
   "metadata": {},
   "source": [
    "___________________________________________________________________________________________________________________________"
   ]
  },
  {
   "cell_type": "markdown",
   "metadata": {},
   "source": [
    "## Trouble Shooting  \n",
    "### here are some errors and solutions that might occur while creating your project:  \n",
    "\n",
    "- IndexError: list index out of range  \n",
    "    --> there mustn´t be more than two bodyparts in a skeleton connection  \n",
    "    --> solution: combine only two bodyparts and watch out for indexing  \n",
    "         \n",
    "- system cannot find path specified  \n",
    "    --> check correctness of path  \n",
    "    --> check direction of slashes  \n",
    "    --> if you changed the path, run code sections again\n",
    "    \n",
    "- you should not use spaces in path names  \n",
    "    --> solution: use underscores or write names together! :)\n",
    "    \n",
    "- do NOT close the prompt or type ctrl+c during processing!!!  \n",
    "    --> during processing, there is a star between parentheses and a sand clock on top of the notebook  \n",
    "    --> when finished, there is a number bw parentheses\n",
    "    \n",
    "- do not use the mouse in the anaconda prompt!\n",
    "    --> navigate using keyboard\n",
    "- do not use Alt+F4\n",
    "- discuss where to locate the tracking points\n",
    "- name the body parts so that you intuitively understand what they label\n"
   ]
  },
  {
   "cell_type": "markdown",
   "metadata": {},
   "source": [
    "___________________________________________________________________________________________________________________________"
   ]
  },
  {
   "cell_type": "markdown",
   "metadata": {},
   "source": [
    "## This is our own project - named Picky Pigeons\n",
    "We want to investigate if it makes a big difference using a few vs. using a lot of labels. These are our methods:  \n",
    "  \n",
    "- there are 20 frames per video and 8 videos\n",
    "- the 'easy' project uses 7 labels, the 'hard' project uses 22 labels during frame labeling (see below under 'configure project' for the specification of labels)\n",
    "- everyone labels 2x20 frames with the easy version, and 2x20 frames with the complex version on the same videos (my videos: nrs. 159, 161)\n",
    "- after finishing the first video in each condition (so after 20 frames), the questionnaire is filled  \n",
    "- after labeling frames we counter check the labels of each other  \n",
    "- the program trains with 1 million iterations (maximum possible)!!\n",
    "\n",
    "\n",
    "our hypotheses:  \n",
    "1. There is a lower pixel difference in the more label version.\n",
    "2. The confidence of the model is higher in the more label version.\n",
    "3. The lower label version is faster to label.\n",
    "4. The experienced flow is higher in the low label version (measured with the Flow-Kurzskala (FKS).  \n",
    "\n"
   ]
  },
  {
   "cell_type": "markdown",
   "metadata": {},
   "source": [
    "___________________________________________________________________________________________________________________________"
   ]
  },
  {
   "cell_type": "markdown",
   "metadata": {},
   "source": [
    "# DeepLabCut Notebook"
   ]
  },
  {
   "cell_type": "markdown",
   "metadata": {},
   "source": [
    "## Starting an existing project"
   ]
  },
  {
   "cell_type": "markdown",
   "metadata": {},
   "source": [
    "**This is for opening the project via your gui**"
   ]
  },
  {
   "cell_type": "markdown",
   "metadata": {},
   "source": [
    "Sometimes it is easier to start an existing project with your gui because here it is easier to handle the project and pick the config file where you created the project.  \n",
    "For opening your project via the gui use the following code chunk in a new anaconda prompt:"
   ]
  },
  {
   "cell_type": "code",
   "execution_count": null,
   "metadata": {},
   "outputs": [],
   "source": [
    "conda activate dlc\n",
    "python -m deeplabcut"
   ]
  },
  {
   "cell_type": "markdown",
   "metadata": {},
   "source": [
    "When your gui is activated, click _\"load existing project\"_ and then under _\"select config file\"_ choose your respective _config.yaml_ file."
   ]
  },
  {
   "cell_type": "markdown",
   "metadata": {},
   "source": [
    "---------------------------"
   ]
  },
  {
   "cell_type": "markdown",
   "metadata": {},
   "source": [
    "**These are the normal commands:**"
   ]
  },
  {
   "cell_type": "markdown",
   "metadata": {},
   "source": [
    "### step 1: import python libraries"
   ]
  },
  {
   "cell_type": "code",
   "execution_count": 1,
   "metadata": {},
   "outputs": [
    {
     "name": "stdout",
     "output_type": "stream",
     "text": [
      "Using DeepLabCut version: 2.2.0.2\n",
      "Using TensorFlow version: 2.7.0\n"
     ]
    }
   ],
   "source": [
    "try:\n",
    "    import deeplabcut\n",
    "    import tensorflow\n",
    "    import tkinter\n",
    "    from tkinter import filedialog\n",
    "\n",
    "    print(f'Using DeepLabCut version: {deeplabcut. __version__}')\n",
    "    print(f'Using TensorFlow version: {tensorflow. __version__}')   \n",
    "\n",
    "except:\n",
    "    print(\"Please run the notebook in in your local environment\")"
   ]
  },
  {
   "cell_type": "markdown",
   "metadata": {},
   "source": [
    "### step 2: open existing project using config_path command"
   ]
  },
  {
   "cell_type": "code",
   "execution_count": 2,
   "metadata": {},
   "outputs": [],
   "source": [
    "config_path = filedialog.askopenfilename(title='Choose DeepLabCut config.yaml file:')"
   ]
  },
  {
   "cell_type": "markdown",
   "metadata": {},
   "source": [
    "## For labeling frames use the following code chunks:"
   ]
  },
  {
   "cell_type": "markdown",
   "metadata": {},
   "source": [
    "3. label frames\n",
    "4. check frames "
   ]
  },
  {
   "cell_type": "markdown",
   "metadata": {},
   "source": [
    "### step 3: Label frames"
   ]
  },
  {
   "cell_type": "code",
   "execution_count": null,
   "metadata": {},
   "outputs": [],
   "source": [
    "deeplabcut.label_frames(config_path)"
   ]
  },
  {
   "cell_type": "markdown",
   "metadata": {},
   "source": [
    "### step 4: Check frames"
   ]
  },
  {
   "cell_type": "markdown",
   "metadata": {},
   "source": [
    "You can plot your labeled frames to check your annotation accuracy."
   ]
  },
  {
   "cell_type": "code",
   "execution_count": null,
   "metadata": {},
   "outputs": [],
   "source": [
    "deeplabcut.check_labels(config_path)"
   ]
  },
  {
   "cell_type": "markdown",
   "metadata": {},
   "source": [
    "Note: If there is a mistake in the labeling, label frames new by rerunning step 3. Then delete the folder with 'labeled' at the end and rerun the command 'check frames' of step 4."
   ]
  },
  {
   "cell_type": "markdown",
   "metadata": {},
   "source": [
    "note: if you already created a training set you can skip the code chunks after 'create project'  "
   ]
  },
  {
   "cell_type": "markdown",
   "metadata": {},
   "source": [
    "## For creating the training data set and training the model use the code chunks of steps 5 and 6:\n",
    "5. create training data set\n",
    "6. train model \n",
    "\n",
    "**Note:** For comparative DLC projects, i.e., comparing different models based on similar data, the training and test datasets need to be comparable. This needs a little manual coding to re-edit a few files (see below)."
   ]
  },
  {
   "cell_type": "markdown",
   "metadata": {},
   "source": [
    "___________________________________________________________________________________________________________________________"
   ]
  },
  {
   "cell_type": "markdown",
   "metadata": {},
   "source": [
    "Note: you don't need this part if you created a project already\n",
    "## For creating a new DeepLabCut Project use the following code blocks"
   ]
  },
  {
   "cell_type": "markdown",
   "metadata": {},
   "source": [
    "**Import python libraries** needed for this notebook"
   ]
  },
  {
   "cell_type": "code",
   "execution_count": 1,
   "metadata": {},
   "outputs": [
    {
     "name": "stdout",
     "output_type": "stream",
     "text": [
      "Using DeepLabCut version: 2.2.0.2\n",
      "Using TensorFlow version: 2.7.0\n"
     ]
    }
   ],
   "source": [
    "try:\n",
    "    import deeplabcut\n",
    "    import tensorflow\n",
    "    import tkinter\n",
    "    from tkinter import filedialog\n",
    "\n",
    "    print(f'Using DeepLabCut version: {deeplabcut. __version__}')\n",
    "    print(f'Using TensorFlow version: {tensorflow. __version__}')   \n",
    "\n",
    "except:\n",
    "    print(\"Please run the notebook in in your local environment\")"
   ]
  },
  {
   "cell_type": "markdown",
   "metadata": {},
   "source": [
    "Start by **selecting the list of videos** to be included in the model.  \n",
    "(You could manually type the full path of each video in a python list as argument of the deeplabcut.create_new_project() function, like so:)  \n",
    "However, instead **use the code chunk below with tkinter** where you can just select the videos and not have to type each one out!"
   ]
  },
  {
   "cell_type": "code",
   "execution_count": null,
   "metadata": {},
   "outputs": [],
   "source": [
    "['C:\\\\Users\\\\computername\\\\Videos\\\\reachingvideo1.avi', \n",
    " 'C:\\\\Users\\\\computername\\\\Videos\\\\reachingvideo2.avi', \n",
    " 'C:\\\\Users\\\\computername\\\\Videos\\\\reachingvideo3.avi']"
   ]
  },
  {
   "cell_type": "markdown",
   "metadata": {},
   "source": [
    ":::{note}\n",
    "Windows users need to use the double backslash for path directories or a python raw filestring.\n",
    ":::"
   ]
  },
  {
   "cell_type": "markdown",
   "metadata": {},
   "source": [
    "**use this code chunk below here:** Instead, we use ```tkinter``` to open a file dialoge and save the file paths in a python list called ```videolist```: "
   ]
  },
  {
   "cell_type": "code",
   "execution_count": 3,
   "metadata": {
    "scrolled": true,
    "tags": []
   },
   "outputs": [
    {
     "name": "stdout",
     "output_type": "stream",
     "text": [
      "8 videos selected:\n",
      "C:/Users/USER/Documents/Picky_Pigeon_Project-The_Picky_Pigeons-2021-12-17/videos/159.MP4\n",
      "C:/Users/USER/Documents/Picky_Pigeon_Project-The_Picky_Pigeons-2021-12-17/videos/161.MP4\n",
      "C:/Users/USER/Documents/Picky_Pigeon_Project-The_Picky_Pigeons-2021-12-17/videos/162_1100ms_gopro_cut_day4_gp2-007.MP4\n",
      "C:/Users/USER/Documents/Picky_Pigeon_Project-The_Picky_Pigeons-2021-12-17/videos/163_100ms_gopro_cut_day4_gp1-003.MP4\n",
      "C:/Users/USER/Documents/Picky_Pigeon_Project-The_Picky_Pigeons-2021-12-17/videos/164_100ms_gopro_cut_day4_gp1-005.MP4\n",
      "C:/Users/USER/Documents/Picky_Pigeon_Project-The_Picky_Pigeons-2021-12-17/videos/165_600ms_gopro_cut_day7_gp4-004.MP4\n",
      "C:/Users/USER/Documents/Picky_Pigeon_Project-The_Picky_Pigeons-2021-12-17/videos/166_600ms_gopro_cut_day7_gp4-001.MP4\n",
      "C:/Users/USER/Documents/Picky_Pigeon_Project-The_Picky_Pigeons-2021-12-17/videos/167_1100ms_gopro_cut_day4_gp2-002.MP4\n"
     ]
    }
   ],
   "source": [
    "video_files = filedialog.askopenfilenames(title='Choose new video files to analyze in DeepLabCut:')\n",
    "videolist = list(video_files)\n",
    "\n",
    "print(f'{len(videolist)} videos selected:')\n",
    "for i in range(len(videolist)): \n",
    "    print(videolist[i])"
   ]
  },
  {
   "cell_type": "markdown",
   "metadata": {},
   "source": [
    "Now we **create a new project** using the video paths in ```videolist```, give the project a name and set a few parameters:"
   ]
  },
  {
   "cell_type": "code",
   "execution_count": 3,
   "metadata": {
    "scrolled": true,
    "tags": []
   },
   "outputs": [
    {
     "name": "stdout",
     "output_type": "stream",
     "text": [
      "Created \"C:\\Users\\USER\\Desktop\\Picky_Pigeon_Project\\Picky_Pigeon_Project-The_Picky_Pigeons-2021-12-17\\videos\"\n",
      "Created \"C:\\Users\\USER\\Desktop\\Picky_Pigeon_Project\\Picky_Pigeon_Project-The_Picky_Pigeons-2021-12-17\\labeled-data\"\n",
      "Created \"C:\\Users\\USER\\Desktop\\Picky_Pigeon_Project\\Picky_Pigeon_Project-The_Picky_Pigeons-2021-12-17\\training-datasets\"\n",
      "Created \"C:\\Users\\USER\\Desktop\\Picky_Pigeon_Project\\Picky_Pigeon_Project-The_Picky_Pigeons-2021-12-17\\dlc-models\"\n",
      "Copying the videos\n",
      "C:\\Users\\USER\\Desktop\\Picky_Pigeon_Project\\Picky_Pigeon_Project-The_Picky_Pigeons-2021-12-17\\videos\\159.MP4\n",
      "C:\\Users\\USER\\Desktop\\Picky_Pigeon_Project\\Picky_Pigeon_Project-The_Picky_Pigeons-2021-12-17\\videos\\161.MP4\n",
      "C:\\Users\\USER\\Desktop\\Picky_Pigeon_Project\\Picky_Pigeon_Project-The_Picky_Pigeons-2021-12-17\\videos\\162_1100ms_gopro_cut_day4_gp2-007.MP4\n",
      "C:\\Users\\USER\\Desktop\\Picky_Pigeon_Project\\Picky_Pigeon_Project-The_Picky_Pigeons-2021-12-17\\videos\\163_100ms_gopro_cut_day4_gp1-003.MP4\n",
      "C:\\Users\\USER\\Desktop\\Picky_Pigeon_Project\\Picky_Pigeon_Project-The_Picky_Pigeons-2021-12-17\\videos\\164_100ms_gopro_cut_day4_gp1-005.MP4\n",
      "C:\\Users\\USER\\Desktop\\Picky_Pigeon_Project\\Picky_Pigeon_Project-The_Picky_Pigeons-2021-12-17\\videos\\165_600ms_gopro_cut_day7_gp4-004.MP4\n",
      "C:\\Users\\USER\\Desktop\\Picky_Pigeon_Project\\Picky_Pigeon_Project-The_Picky_Pigeons-2021-12-17\\videos\\166_600ms_gopro_cut_day7_gp4-001.MP4\n",
      "C:\\Users\\USER\\Desktop\\Picky_Pigeon_Project\\Picky_Pigeon_Project-The_Picky_Pigeons-2021-12-17\\videos\\167_1100ms_gopro_cut_day4_gp2-002.MP4\n",
      "Generated \"C:\\Users\\USER\\Desktop\\Picky_Pigeon_Project\\Picky_Pigeon_Project-The_Picky_Pigeons-2021-12-17\\config.yaml\"\n",
      "\n",
      "A new project with name Picky_Pigeon_Project-The_Picky_Pigeons-2021-12-17 is created at C:\\Users\\USER\\Desktop\\Picky_Pigeon_Project and a configurable file (config.yaml) is stored there. Change the parameters in this file to adapt to your project's needs.\n",
      " Once you have changed the configuration file, use the function 'extract_frames' to select frames for labeling.\n",
      ". [OPTIONAL] Use the function 'add_new_videos' to add new videos to your project (at any stage).\n"
     ]
    }
   ],
   "source": [
    "config_path = deeplabcut.create_new_project('Picky_Pigeon_Project', 'The_Picky_Pigeons', videolist, working_directory='C:/Users/USER/Desktop/Picky_Pigeon_Project', copy_videos=True, multianimal=False)"
   ]
  },
  {
   "cell_type": "markdown",
   "metadata": {},
   "source": [
    ":::{note}\n",
    "You can **load existing DeepLabCut projects** by specifying the config_path as below:\n",
    ":::"
   ]
  },
  {
   "cell_type": "code",
   "execution_count": 2,
   "metadata": {},
   "outputs": [],
   "source": [
    "config_path = filedialog.askopenfilename(title='Choose DeepLabCut config.yaml file:')"
   ]
  },
  {
   "cell_type": "markdown",
   "metadata": {},
   "source": [
    "### Configure Project"
   ]
  },
  {
   "cell_type": "markdown",
   "metadata": {},
   "source": [
    "Now that a new project has been created with a specific directory structure and configuration file, we need to tweak some parameters to **tailor the bodyparts we want to track**:"
   ]
  },
  {
   "cell_type": "code",
   "execution_count": 5,
   "metadata": {},
   "outputs": [
    {
     "name": "stdout",
     "output_type": "stream",
     "text": [
      "Please edit bodyparts list to be tracked\n"
     ]
    }
   ],
   "source": [
    "import webbrowser\n",
    "webbrowser.open(config_path)\n",
    "print('Please edit bodyparts list to be tracked')"
   ]
  },
  {
   "cell_type": "markdown",
   "metadata": {},
   "source": [
    "Once happy with all ```bodyparts```, ```skeleton:``` and ```numframes2pick:``` settings, start extracting frames to label:\n"
   ]
  },
  {
   "cell_type": "markdown",
   "metadata": {},
   "source": [
    "### These are the body parts and skeleton connections we used for the easy model:\n",
    "bodyparts:\n",
    "- beaktip\n",
    "- tophead\n",
    "- neckbase\n",
    "- tailend\n",
    "- wingbowleft\n",
    "- wingbowright\n",
    "- backcenter\n",
    "\n",
    "start: 0\n",
    "stop: 1\n",
    "numframes2pick: 20\n",
    "\n",
    "Plotting configuration\n",
    "skeleton:\n",
    "- - beaktip\n",
    "  - tophead\n",
    "- - tophead\n",
    "  - neckbase\n",
    "- - neckbase\n",
    "  - backcenter\n",
    "- - backcenter\n",
    "  - tailend\n",
    "- - neckbase\n",
    "  - wingbowleft\n",
    "- - neckbase\n",
    "  - wingbowright"
   ]
  },
  {
   "cell_type": "markdown",
   "metadata": {},
   "source": [
    "### These are the bodyparts and skeleton configs we used for the complex model:\n",
    "bodyparts:\n",
    "- beaktip\n",
    "- beakbase\n",
    "- beakcornerleft\n",
    "- beakcornerright\n",
    "- tophead\n",
    "- headback\n",
    "- lefteye\n",
    "- righteye\n",
    "- neckbase\n",
    "- leftshoulder\n",
    "- rightshoulder\n",
    "- wingbowleft\n",
    "- wingbowright\n",
    "- wingendleft\n",
    "- wingendright\n",
    "- chest\n",
    "- necktocenter\n",
    "- backcenter\n",
    "- centertotailend\n",
    "- tailend\n",
    "- tailendleft\n",
    "- tailendright\n",
    "\n",
    "\n",
    "start: 0\n",
    "stop: 1\n",
    "numframes2pick: 20\n",
    "\n",
    "Plotting configuration\n",
    "skeleton:\n",
    "- - beaktip\n",
    "  - beakbase\n",
    "- - beaktip\n",
    "  - beakcornerleft\n",
    "- - beaktip\n",
    "  - beakcornerright\n",
    "- - beakbase\n",
    "  - beakcornerleft\n",
    "- - beakbase\n",
    "  - beakcornerright\n",
    "- - beakbase\n",
    "  - tophead\n",
    "- - tophead\n",
    "  - headback\n",
    "- - headback\n",
    "  - neckbase\n",
    "- - neckbase\n",
    "  - necktocenter\n",
    "- - necktocenter\n",
    "  - backcenter\n",
    "- - backcenter\n",
    "  - centertotailend\n",
    "- - centertotailend\n",
    "  - tailend\n",
    "- - centertotailend\n",
    "  - tailendleft\n",
    "- - centertotailend\n",
    "  - tailendright\n",
    "- - tailend\n",
    "  - tailendleft\n",
    "- - tailend\n",
    "  - tailendright\n",
    "- - neckbase\n",
    "  - leftshoulder\n",
    "- - neckbase\n",
    "  - rightsoulder\n",
    "- - leftshoulder\n",
    "  - wingbowleft\n",
    "- - rightshoulder\n",
    "  - wingbowright\n",
    "- - wingbowleft\n",
    "  - wingendleft\n",
    "- - wingbowright\n",
    "  - wingendright\n",
    "- - chest\n",
    "  - leftshoulder\n",
    "- - chest\n",
    "  - rightshoulder"
   ]
  },
  {
   "cell_type": "markdown",
   "metadata": {},
   "source": [
    "### Extract frames from the videos\n",
    "To label frames, first you need to **extract frames** from the videos. Do that using the following command:"
   ]
  },
  {
   "cell_type": "code",
   "execution_count": 6,
   "metadata": {
    "scrolled": true,
    "tags": []
   },
   "outputs": [
    {
     "name": "stdout",
     "output_type": "stream",
     "text": [
      "Config file read successfully.\n",
      "Extracting frames based on kmeans ...\n",
      "Kmeans-quantization based extracting of frames from 0.0  seconds to 599.97  seconds.\n",
      "Extracting and downsampling... 71924  frames from the video.\n"
     ]
    },
    {
     "name": "stderr",
     "output_type": "stream",
     "text": [
      "71924it [10:18, 116.20it/s]\n"
     ]
    },
    {
     "name": "stdout",
     "output_type": "stream",
     "text": [
      "Kmeans clustering ... (this might take a while)\n",
      "Extracting frames based on kmeans ...\n",
      "Kmeans-quantization based extracting of frames from 0.0  seconds to 599.98  seconds.\n",
      "Extracting and downsampling... 71926  frames from the video.\n"
     ]
    },
    {
     "name": "stderr",
     "output_type": "stream",
     "text": [
      "71926it [10:13, 117.31it/s]\n"
     ]
    },
    {
     "name": "stdout",
     "output_type": "stream",
     "text": [
      "Kmeans clustering ... (this might take a while)\n",
      "Extracting frames based on kmeans ...\n",
      "Kmeans-quantization based extracting of frames from 0.0  seconds to 599.99  seconds.\n",
      "Extracting and downsampling... 71927  frames from the video.\n"
     ]
    },
    {
     "name": "stderr",
     "output_type": "stream",
     "text": [
      "71927it [10:17, 116.55it/s]\n"
     ]
    },
    {
     "name": "stdout",
     "output_type": "stream",
     "text": [
      "Kmeans clustering ... (this might take a while)\n",
      "Extracting frames based on kmeans ...\n",
      "Kmeans-quantization based extracting of frames from 0.0  seconds to 599.98  seconds.\n",
      "Extracting and downsampling... 71926  frames from the video.\n"
     ]
    },
    {
     "name": "stderr",
     "output_type": "stream",
     "text": [
      "71926it [10:10, 117.74it/s]\n"
     ]
    },
    {
     "name": "stdout",
     "output_type": "stream",
     "text": [
      "Kmeans clustering ... (this might take a while)\n",
      "Extracting frames based on kmeans ...\n",
      "Kmeans-quantization based extracting of frames from 0.0  seconds to 599.98  seconds.\n",
      "Extracting and downsampling... 71926  frames from the video.\n"
     ]
    },
    {
     "name": "stderr",
     "output_type": "stream",
     "text": [
      "71926it [10:02, 119.38it/s]\n"
     ]
    },
    {
     "name": "stdout",
     "output_type": "stream",
     "text": [
      "Kmeans clustering ... (this might take a while)\n",
      "Extracting frames based on kmeans ...\n",
      "Kmeans-quantization based extracting of frames from 0.0  seconds to 599.99  seconds.\n",
      "Extracting and downsampling... 71927  frames from the video.\n"
     ]
    },
    {
     "name": "stderr",
     "output_type": "stream",
     "text": [
      "71927it [10:04, 118.97it/s]\n"
     ]
    },
    {
     "name": "stdout",
     "output_type": "stream",
     "text": [
      "Kmeans clustering ... (this might take a while)\n",
      "Extracting frames based on kmeans ...\n",
      "Kmeans-quantization based extracting of frames from 0.0  seconds to 599.97  seconds.\n",
      "Extracting and downsampling... 71925  frames from the video.\n"
     ]
    },
    {
     "name": "stderr",
     "output_type": "stream",
     "text": [
      "71925it [09:44, 123.08it/s]\n"
     ]
    },
    {
     "name": "stdout",
     "output_type": "stream",
     "text": [
      "Kmeans clustering ... (this might take a while)\n",
      "Extracting frames based on kmeans ...\n",
      "Kmeans-quantization based extracting of frames from 0.0  seconds to 599.99  seconds.\n",
      "Extracting and downsampling... 71927  frames from the video.\n"
     ]
    },
    {
     "name": "stderr",
     "output_type": "stream",
     "text": [
      "71927it [09:45, 122.94it/s]\n"
     ]
    },
    {
     "name": "stdout",
     "output_type": "stream",
     "text": [
      "Kmeans clustering ... (this might take a while)\n",
      "Frames were successfully extracted, for the videos of interest.\n",
      "\n",
      "You can now label the frames using the function 'label_frames' (if you extracted enough frames for all videos).\n"
     ]
    }
   ],
   "source": [
    "deeplabcut.extract_frames(config_path, mode='automatic', algo='kmeans', userfeedback=False, crop=False)"
   ]
  },
  {
   "cell_type": "markdown",
   "metadata": {},
   "source": [
    "### Label Frames"
   ]
  },
  {
   "cell_type": "code",
   "execution_count": null,
   "metadata": {},
   "outputs": [],
   "source": [
    "deeplabcut.label_frames(config_path)"
   ]
  },
  {
   "cell_type": "markdown",
   "metadata": {},
   "source": [
    "You can plot your labeled frames to check your annotation accuracy."
   ]
  },
  {
   "cell_type": "code",
   "execution_count": null,
   "metadata": {},
   "outputs": [],
   "source": [
    "deeplabcut.check_labels(config_path)"
   ]
  },
  {
   "cell_type": "markdown",
   "metadata": {},
   "source": [
    "___________________________________________________________________________________________________________________________"
   ]
  },
  {
   "cell_type": "markdown",
   "metadata": {},
   "source": [
    "#### Step 5: create training data set:\n",
    "**Note:** This step is edited manually. To compare two models trained on the same frames with different number of keypoints, a single test/train split has to be shared across projects.\n",
    "\n",
    "##### Alternative 1\n",
    "1. Create a training dataset on one of the projects (in this case the one with the complete set of keypoints)\n",
    "2. Duplicate the project with identical frames extracted\n",
    "3. Edit the `config.yaml` to adjust project parameters such as keypoints and skeleton\n",
    "3. Re-label identical frames\n",
    "4. Pass the same trainIndices and testIndices to `deeplabcut.create_training_dataset()`\n",
    "5. See docstring here: https://github.com/DeepLabCut/DeepLabCut/blob/2d813d96277b84dae4256b1465e76e79fd9b0bb3/deeplabcut/generate_training_dataset/trainingsetmanipulation.py#L722\n",
    "**Pro:** Easy if steps followed carefully    \n",
    "**Con:** Both projects have slightly different labeles, as frames were manually labeled twice. You could have first labeled the smaller project, then duplicate the project, add new keypoints to `config.yaml`, and re-label all frames only for new additional keypoints.\n",
    "\n",
    "##### Alternative 2\n",
    "1. If both project differ in the number of keypoints, but the lower number of keypoints is a subset of the first, don't label the same frames manually again! See con above, these keypoints will be slightly different.\n",
    "2. You could now still duplicate the project with larger amount of keypoints\n",
    "3. Edit `config.yaml` file to reduce subset of keypoints\n",
    "4. Maunally remove unwanted keypoints from `.h5` files in `labeled-data`\n",
    "5. Pass the same trainIndices and testIndices to `deeplabcut.create_training_dataset()` as above\n",
    "**Pro:** Two projects use exact same coordinates for common keypoints    \n",
    "**Con:** Messy to manually edit `.h5` files"
   ]
  },
  {
   "cell_type": "markdown",
   "metadata": {},
   "source": [
    "#### Alternative 1"
   ]
  },
  {
   "cell_type": "code",
   "execution_count": 6,
   "metadata": {},
   "outputs": [],
   "source": [
    "# Define the train and test indices as used in the first project\n",
    "trainIndices = np.array([133,  16,   8,  22,  28,  43, 156,  70,  17,  23,  94,   3,  26,\n",
    "          116, 154,  19,  49, 137, 115,   6, 100,  92,  89, 135, 122,  45,\n",
    "          129,   0,  61,  33,  27, 110,  39, 144, 113, 128,  38,  14, 140,\n",
    "          123,  36,  75,  20,  88, 118,  51,  34,  47, 138,  32,  91,  86,\n",
    "          131,  35, 149,  87,  13, 103,  64,  58, 117, 141, 101,   5,   9,\n",
    "          139, 153, 155, 145, 114, 147,  67,  54,  96,  68, 111,  84, 157,\n",
    "          158, 105, 127,  42,  10,  69,  57,  98, 142,  93, 121, 151,   7,\n",
    "           71, 112, 109, 119,  82,  15, 107,  60, 159,  30,  85, 102, 125,\n",
    "          134,  97,  37, 136,  11, 120,  80,  63,  29, 104,  40,  31,  50,\n",
    "           48,   1,  78,  59,  52,  46,  24, 146,  74, 126,  90,  99, 130,\n",
    "           66,  12, 108,   2,  77,  62, 152,  72,  81,  41,   4,  53, 106,\n",
    "           18,  76,  65,  95, 143, 150,  56,  55,  25])\n",
    "testIndices = np.array([132,  21,  79,  83,  73, 124, 148,  44])"
   ]
  },
  {
   "cell_type": "code",
   "execution_count": 10,
   "metadata": {
    "scrolled": true,
    "tags": []
   },
   "outputs": [
    {
     "name": "stdout",
     "output_type": "stream",
     "text": [
      "You passed a split with the following fraction: 95%\n",
      "The training dataset is successfully created. Use the function 'train_network' to start training. Happy training!\n"
     ]
    },
    {
     "data": {
      "text/plain": [
       "[(0.95,\n",
       "  1,\n",
       "  (array([133,  16,   8,  22,  28,  43, 156,  70,  17,  23,  94,   3,  26,\n",
       "          116, 154,  19,  49, 137, 115,   6, 100,  92,  89, 135, 122,  45,\n",
       "          129,   0,  61,  33,  27, 110,  39, 144, 113, 128,  38,  14, 140,\n",
       "          123,  36,  75,  20,  88, 118,  51,  34,  47, 138,  32,  91,  86,\n",
       "          131,  35, 149,  87,  13, 103,  64,  58, 117, 141, 101,   5,   9,\n",
       "          139, 153, 155, 145, 114, 147,  67,  54,  96,  68, 111,  84, 157,\n",
       "          158, 105, 127,  42,  10,  69,  57,  98, 142,  93, 121, 151,   7,\n",
       "           71, 112, 109, 119,  82,  15, 107,  60, 159,  30,  85, 102, 125,\n",
       "          134,  97,  37, 136,  11, 120,  80,  63,  29, 104,  40,  31,  50,\n",
       "           48,   1,  78,  59,  52,  46,  24, 146,  74, 126,  90,  99, 130,\n",
       "           66,  12, 108,   2,  77,  62, 152,  72,  81,  41,   4,  53, 106,\n",
       "           18,  76,  65,  95, 143, 150,  56,  55,  25]),\n",
       "   array([132,  21,  79,  83,  73, 124, 148,  44])))]"
      ]
     },
     "execution_count": 10,
     "metadata": {},
     "output_type": "execute_result"
    }
   ],
   "source": [
    "# Pass the given trainIndices and testIndices to create a new dataset\n",
    "deeplabcut.create_training_dataset(config_path, num_shuffles=1, trainIndices=[trainIndices],testIndices=[testIndices], net_type='resnet_50', augmenter_type='imgaug')"
   ]
  },
  {
   "cell_type": "markdown",
   "metadata": {},
   "source": [
    "### Step 6: Train Model"
   ]
  },
  {
   "cell_type": "code",
   "execution_count": null,
   "metadata": {},
   "outputs": [],
   "source": [
    "deeplabcut.train_network(config_path, shuffle=1, max_snapshots_to_keep=5, displayiters=200, saveiters=20000, maxiters=1030000, allow_growth=True)"
   ]
  },
  {
   "cell_type": "markdown",
   "metadata": {},
   "source": [
    "### Evaluate Model"
   ]
  },
  {
   "cell_type": "code",
   "execution_count": null,
   "metadata": {},
   "outputs": [],
   "source": [
    "deeplabcut.evaluate_network(config_path,Shuffles=[1], plotting=True)"
   ]
  },
  {
   "cell_type": "markdown",
   "metadata": {},
   "source": [
    "**Note:** Project Path may be too long for Windows if `plotting=True`, try cloning the project to a shallower directory structure, run `evaluate_network` and then move the labeled evaluation frames back to original model."
   ]
  },
  {
   "cell_type": "code",
   "execution_count": 4,
   "metadata": {},
   "outputs": [
    {
     "name": "stdout",
     "output_type": "stream",
     "text": [
      "Running  DLC_resnet50_Picky_Pigeon_ProjectDec17shuffle1_1030000  with # of training iterations: 1030000\n",
      "This net has already been evaluated!\n",
      "Plotting...(attention scale might be inconsistent in comparison to when data was analyzed; i.e. if you used rescale)\n"
     ]
    },
    {
     "name": "stderr",
     "output_type": "stream",
     "text": [
      "100%|████████████████████████████████████████████████████████████████████████████████████████████| 160/160 [02:01<00:00,  1.31it/s]\n"
     ]
    }
   ],
   "source": [
    "deeplabcut.evaluate_network(config_path,Shuffles=[1], plotting=True)"
   ]
  },
  {
   "cell_type": "markdown",
   "metadata": {},
   "source": [
    "### Analyze Videos"
   ]
  },
  {
   "cell_type": "code",
   "execution_count": 6,
   "metadata": {
    "scrolled": true,
    "tags": []
   },
   "outputs": [
    {
     "name": "stdout",
     "output_type": "stream",
     "text": [
      "8 videos selected:\n",
      "E:/SeminarTrackingAnimalBehavior/Picky_Pigeon_Project-The_Picky_Pigeons-2021-12-17/videos/159.MP4\n",
      "E:/SeminarTrackingAnimalBehavior/Picky_Pigeon_Project-The_Picky_Pigeons-2021-12-17/videos/161.MP4\n",
      "E:/SeminarTrackingAnimalBehavior/Picky_Pigeon_Project-The_Picky_Pigeons-2021-12-17/videos/162_1100ms_gopro_cut_day4_gp2-007.MP4\n",
      "E:/SeminarTrackingAnimalBehavior/Picky_Pigeon_Project-The_Picky_Pigeons-2021-12-17/videos/163_100ms_gopro_cut_day4_gp1-003.MP4\n",
      "E:/SeminarTrackingAnimalBehavior/Picky_Pigeon_Project-The_Picky_Pigeons-2021-12-17/videos/164_100ms_gopro_cut_day4_gp1-005.MP4\n",
      "E:/SeminarTrackingAnimalBehavior/Picky_Pigeon_Project-The_Picky_Pigeons-2021-12-17/videos/165_600ms_gopro_cut_day7_gp4-004.MP4\n",
      "E:/SeminarTrackingAnimalBehavior/Picky_Pigeon_Project-The_Picky_Pigeons-2021-12-17/videos/166_600ms_gopro_cut_day7_gp4-001.MP4\n",
      "E:/SeminarTrackingAnimalBehavior/Picky_Pigeon_Project-The_Picky_Pigeons-2021-12-17/videos/167_1100ms_gopro_cut_day4_gp2-002.MP4\n"
     ]
    }
   ],
   "source": [
    "video_files = filedialog.askopenfilenames(title='Choose new video files to analyze in DeepLabCut:')\n",
    "videolist = list(video_files)\n",
    "\n",
    "print(f'{len(videolist)} videos selected:')\n",
    "for i in range(len(videolist)): \n",
    "    print(videolist[i])"
   ]
  },
  {
   "cell_type": "code",
   "execution_count": 7,
   "metadata": {
    "scrolled": true,
    "tags": []
   },
   "outputs": [
    {
     "name": "stdout",
     "output_type": "stream",
     "text": [
      "Using snapshot-1030000 for model E:/SeminarTrackingAnimalBehavior/Picky_Pigeon_Project-The_Picky_Pigeons-2021-12-17\\dlc-models\\iteration-0\\Picky_Pigeon_ProjectDec17-trainset95shuffle1\n"
     ]
    },
    {
     "name": "stderr",
     "output_type": "stream",
     "text": [
      "C:\\Users\\hidalggc\\Anaconda3\\envs\\dlc\\lib\\site-packages\\tensorflow\\python\\keras\\engine\\base_layer_v1.py:1692: UserWarning: `layer.apply` is deprecated and will be removed in a future version. Please use `layer.__call__` method instead.\n",
      "  warnings.warn('`layer.apply` is deprecated and '\n"
     ]
    },
    {
     "name": "stdout",
     "output_type": "stream",
     "text": [
      "Starting to analyze %  E:/SeminarTrackingAnimalBehavior/Picky_Pigeon_Project-The_Picky_Pigeons-2021-12-17/videos/159.MP4\n",
      "Loading  E:/SeminarTrackingAnimalBehavior/Picky_Pigeon_Project-The_Picky_Pigeons-2021-12-17/videos/159.MP4\n",
      "Duration of video [s]:  599.97 , recorded with  119.88 fps!\n",
      "Overall # of frames:  71924  found with (before cropping) frame dimensions:  1280 960\n",
      "Starting to extract posture\n"
     ]
    },
    {
     "name": "stderr",
     "output_type": "stream",
     "text": [
      "72619it [35:07, 34.46it/s]                                                                                                         \n"
     ]
    },
    {
     "name": "stdout",
     "output_type": "stream",
     "text": [
      "Saving results in E:\\SeminarTrackingAnimalBehavior\\Picky_Pigeon_Project-The_Picky_Pigeons-2021-12-17\\videos...\n",
      "Saving csv poses!\n",
      "Starting to analyze %  E:/SeminarTrackingAnimalBehavior/Picky_Pigeon_Project-The_Picky_Pigeons-2021-12-17/videos/161.MP4\n",
      "Loading  E:/SeminarTrackingAnimalBehavior/Picky_Pigeon_Project-The_Picky_Pigeons-2021-12-17/videos/161.MP4\n",
      "Duration of video [s]:  599.98 , recorded with  119.88 fps!\n",
      "Overall # of frames:  71926  found with (before cropping) frame dimensions:  1280 960\n",
      "Starting to extract posture\n"
     ]
    },
    {
     "name": "stderr",
     "output_type": "stream",
     "text": [
      "72619it [35:01, 34.56it/s]                                                                                                         \n"
     ]
    },
    {
     "name": "stdout",
     "output_type": "stream",
     "text": [
      "Saving results in E:\\SeminarTrackingAnimalBehavior\\Picky_Pigeon_Project-The_Picky_Pigeons-2021-12-17\\videos...\n",
      "Saving csv poses!\n",
      "Starting to analyze %  E:/SeminarTrackingAnimalBehavior/Picky_Pigeon_Project-The_Picky_Pigeons-2021-12-17/videos/162_1100ms_gopro_cut_day4_gp2-007.MP4\n",
      "Loading  E:/SeminarTrackingAnimalBehavior/Picky_Pigeon_Project-The_Picky_Pigeons-2021-12-17/videos/162_1100ms_gopro_cut_day4_gp2-007.MP4\n",
      "Duration of video [s]:  599.99 , recorded with  119.88 fps!\n",
      "Overall # of frames:  71927  found with (before cropping) frame dimensions:  1280 960\n",
      "Starting to extract posture\n"
     ]
    },
    {
     "name": "stderr",
     "output_type": "stream",
     "text": [
      "72619it [36:01, 33.60it/s]                                                                                                         \n"
     ]
    },
    {
     "name": "stdout",
     "output_type": "stream",
     "text": [
      "Saving results in E:\\SeminarTrackingAnimalBehavior\\Picky_Pigeon_Project-The_Picky_Pigeons-2021-12-17\\videos...\n",
      "Saving csv poses!\n",
      "Starting to analyze %  E:/SeminarTrackingAnimalBehavior/Picky_Pigeon_Project-The_Picky_Pigeons-2021-12-17/videos/163_100ms_gopro_cut_day4_gp1-003.MP4\n",
      "Loading  E:/SeminarTrackingAnimalBehavior/Picky_Pigeon_Project-The_Picky_Pigeons-2021-12-17/videos/163_100ms_gopro_cut_day4_gp1-003.MP4\n",
      "Duration of video [s]:  599.98 , recorded with  119.88 fps!\n",
      "Overall # of frames:  71926  found with (before cropping) frame dimensions:  1280 960\n",
      "Starting to extract posture\n"
     ]
    },
    {
     "name": "stderr",
     "output_type": "stream",
     "text": [
      "72619it [41:52, 28.90it/s]                                                                                                         \n"
     ]
    },
    {
     "name": "stdout",
     "output_type": "stream",
     "text": [
      "Saving results in E:\\SeminarTrackingAnimalBehavior\\Picky_Pigeon_Project-The_Picky_Pigeons-2021-12-17\\videos...\n",
      "Saving csv poses!\n",
      "Starting to analyze %  E:/SeminarTrackingAnimalBehavior/Picky_Pigeon_Project-The_Picky_Pigeons-2021-12-17/videos/164_100ms_gopro_cut_day4_gp1-005.MP4\n",
      "Loading  E:/SeminarTrackingAnimalBehavior/Picky_Pigeon_Project-The_Picky_Pigeons-2021-12-17/videos/164_100ms_gopro_cut_day4_gp1-005.MP4\n",
      "Duration of video [s]:  599.98 , recorded with  119.88 fps!\n",
      "Overall # of frames:  71926  found with (before cropping) frame dimensions:  1280 960\n",
      "Starting to extract posture\n"
     ]
    },
    {
     "name": "stderr",
     "output_type": "stream",
     "text": [
      "72619it [41:29, 29.17it/s]                                                                                                         \n"
     ]
    },
    {
     "name": "stdout",
     "output_type": "stream",
     "text": [
      "Saving results in E:\\SeminarTrackingAnimalBehavior\\Picky_Pigeon_Project-The_Picky_Pigeons-2021-12-17\\videos...\n",
      "Saving csv poses!\n",
      "Starting to analyze %  E:/SeminarTrackingAnimalBehavior/Picky_Pigeon_Project-The_Picky_Pigeons-2021-12-17/videos/165_600ms_gopro_cut_day7_gp4-004.MP4\n",
      "Loading  E:/SeminarTrackingAnimalBehavior/Picky_Pigeon_Project-The_Picky_Pigeons-2021-12-17/videos/165_600ms_gopro_cut_day7_gp4-004.MP4\n",
      "Duration of video [s]:  599.99 , recorded with  119.88 fps!\n",
      "Overall # of frames:  71927  found with (before cropping) frame dimensions:  1280 960\n",
      "Starting to extract posture\n"
     ]
    },
    {
     "name": "stderr",
     "output_type": "stream",
     "text": [
      "72619it [41:35, 29.10it/s]                                                                                                         \n"
     ]
    },
    {
     "name": "stdout",
     "output_type": "stream",
     "text": [
      "Saving results in E:\\SeminarTrackingAnimalBehavior\\Picky_Pigeon_Project-The_Picky_Pigeons-2021-12-17\\videos...\n",
      "Saving csv poses!\n",
      "Starting to analyze %  E:/SeminarTrackingAnimalBehavior/Picky_Pigeon_Project-The_Picky_Pigeons-2021-12-17/videos/166_600ms_gopro_cut_day7_gp4-001.MP4\n",
      "Loading  E:/SeminarTrackingAnimalBehavior/Picky_Pigeon_Project-The_Picky_Pigeons-2021-12-17/videos/166_600ms_gopro_cut_day7_gp4-001.MP4\n",
      "Duration of video [s]:  599.97 , recorded with  119.88 fps!\n",
      "Overall # of frames:  71925  found with (before cropping) frame dimensions:  1280 960\n",
      "Starting to extract posture\n"
     ]
    },
    {
     "name": "stderr",
     "output_type": "stream",
     "text": [
      "72619it [41:27, 29.19it/s]                                                                                                         \n"
     ]
    },
    {
     "name": "stdout",
     "output_type": "stream",
     "text": [
      "Saving results in E:\\SeminarTrackingAnimalBehavior\\Picky_Pigeon_Project-The_Picky_Pigeons-2021-12-17\\videos...\n",
      "Saving csv poses!\n",
      "Starting to analyze %  E:/SeminarTrackingAnimalBehavior/Picky_Pigeon_Project-The_Picky_Pigeons-2021-12-17/videos/167_1100ms_gopro_cut_day4_gp2-002.MP4\n",
      "Loading  E:/SeminarTrackingAnimalBehavior/Picky_Pigeon_Project-The_Picky_Pigeons-2021-12-17/videos/167_1100ms_gopro_cut_day4_gp2-002.MP4\n",
      "Duration of video [s]:  599.99 , recorded with  119.88 fps!\n",
      "Overall # of frames:  71927  found with (before cropping) frame dimensions:  1280 960\n",
      "Starting to extract posture\n"
     ]
    },
    {
     "name": "stderr",
     "output_type": "stream",
     "text": [
      "72619it [41:54, 28.88it/s]                                                                                                         \n"
     ]
    },
    {
     "name": "stdout",
     "output_type": "stream",
     "text": [
      "Saving results in E:\\SeminarTrackingAnimalBehavior\\Picky_Pigeon_Project-The_Picky_Pigeons-2021-12-17\\videos...\n",
      "Saving csv poses!\n",
      "The videos are analyzed. Now your research can truly start! \n",
      " You can create labeled videos with 'create_labeled_video'\n",
      "If the tracking is not satisfactory for some videos, consider expanding the training set. You can use the function 'extract_outlier_frames' to extract a few representative outlier frames.\n"
     ]
    },
    {
     "data": {
      "text/plain": [
       "'DLC_resnet50_Picky_Pigeon_ProjectDec17shuffle1_1030000'"
      ]
     },
     "execution_count": 7,
     "metadata": {},
     "output_type": "execute_result"
    }
   ],
   "source": [
    "deeplabcut.analyze_videos(config_path, videolist, shuffle=1, save_as_csv=True, videotype='mp4' )"
   ]
  },
  {
   "cell_type": "code",
   "execution_count": null,
   "metadata": {},
   "outputs": [],
   "source": [
    "deeplabcut.filterpredictions(config_path,videolist, videotype='.mp4',filtertype= 'arima',ARdegree=5,MAdegree=2)"
   ]
  },
  {
   "cell_type": "code",
   "execution_count": 9,
   "metadata": {
    "scrolled": true,
    "tags": []
   },
   "outputs": [
    {
     "name": "stdout",
     "output_type": "stream",
     "text": [
      "Processing E:/SeminarTrackingAnimalBehavior/Picky_Pigeon_Project-The_Picky_Pigeons-2021-12-17/videos/159.MP4\n",
      "Processing E:/SeminarTrackingAnimalBehavior/Picky_Pigeon_Project-The_Picky_Pigeons-2021-12-17/videos/161.MP4\n",
      "Processing E:/SeminarTrackingAnimalBehavior/Picky_Pigeon_Project-The_Picky_Pigeons-2021-12-17/videos/162_1100ms_gopro_cut_day4_gp2-007.MP4\n",
      "Processing E:/SeminarTrackingAnimalBehavior/Picky_Pigeon_Project-The_Picky_Pigeons-2021-12-17/videos/163_100ms_gopro_cut_day4_gp1-003.MP4\n",
      "Processing E:/SeminarTrackingAnimalBehavior/Picky_Pigeon_Project-The_Picky_Pigeons-2021-12-17/videos/164_100ms_gopro_cut_day4_gp1-005.MP4\n",
      "Processing E:/SeminarTrackingAnimalBehavior/Picky_Pigeon_Project-The_Picky_Pigeons-2021-12-17/videos/165_600ms_gopro_cut_day7_gp4-004.MP4\n",
      "Processing E:/SeminarTrackingAnimalBehavior/Picky_Pigeon_Project-The_Picky_Pigeons-2021-12-17/videos/166_600ms_gopro_cut_day7_gp4-001.MP4\n",
      "Processing E:/SeminarTrackingAnimalBehavior/Picky_Pigeon_Project-The_Picky_Pigeons-2021-12-17/videos/167_1100ms_gopro_cut_day4_gp2-002.MP4\n"
     ]
    }
   ],
   "source": [
    "deeplabcut.analyzeskeleton(config_path, videolist, videotype='.mp4', shuffle=1, trainingsetindex=0, save_as_csv=False, destfolder=None)"
   ]
  },
  {
   "cell_type": "markdown",
   "metadata": {},
   "source": [
    "### Create labeled videos"
   ]
  },
  {
   "cell_type": "code",
   "execution_count": null,
   "metadata": {},
   "outputs": [],
   "source": [
    "deeplabcut.create_labeled_video(config_path, videolist, videotype='.mp4', filtered=True, trailpoints=10, draw_skeleton = True, keypoints_only=True)"
   ]
  },
  {
   "cell_type": "code",
   "execution_count": null,
   "metadata": {},
   "outputs": [],
   "source": [
    "deeplabcut.plot_trajectories(config_path, videolist)"
   ]
  },
  {
   "cell_type": "markdown",
   "metadata": {},
   "source": [
    "___________________________________________________________________________________________________________________________"
   ]
  },
  {
   "cell_type": "markdown",
   "metadata": {},
   "source": [
    "## Load Existing Model"
   ]
  },
  {
   "cell_type": "code",
   "execution_count": null,
   "metadata": {},
   "outputs": [],
   "source": [
    "config_path = filedialog.askopenfilename(title='Choose the config.yaml file of your DeepLabCut project:')\n",
    "\n",
    "print(f'Using project path: {config_path}')"
   ]
  },
  {
   "cell_type": "markdown",
   "metadata": {},
   "source": [
    "Load new videos to analyze and/or merge to the project:"
   ]
  },
  {
   "cell_type": "code",
   "execution_count": null,
   "metadata": {},
   "outputs": [],
   "source": [
    "video_files = filedialog.askopenfilenames(title='Choose new video files to analyze in DeepLabCut:')\n",
    "new_videos = list(video_files)\n",
    "\n",
    "print(f'{len(new_videos)} videos selected:')\n",
    "for i in range(len(new_videos)): \n",
    "    print(new_videos[i])"
   ]
  },
  {
   "cell_type": "markdown",
   "metadata": {},
   "source": [
    "### Analyze new videos with the previously trained model"
   ]
  },
  {
   "cell_type": "markdown",
   "metadata": {},
   "source": [
    "The analysis results in this step will most probably not look as desired, but this is to be expected. Bare in mind, that we are trying to analyze new, unseen videos with a model trained on different data (i.e., either other individuals, other sessions and maybe even different light conditions or camera angles). The goal of this step is to find out where the model fails to generalize and cover this shortcomings."
   ]
  },
  {
   "cell_type": "code",
   "execution_count": null,
   "metadata": {},
   "outputs": [],
   "source": [
    "deeplabcut.analyze_videos(config_path, new_videos, shuffle=1, save_as_csv=True, videotype='mp4' )"
   ]
  },
  {
   "cell_type": "code",
   "execution_count": null,
   "metadata": {},
   "outputs": [],
   "source": [
    "deeplabcut.filterpredictions(config_path, new_videos, shuffle=1, save_as_csv=True, videotype='mp4')"
   ]
  },
  {
   "cell_type": "code",
   "execution_count": null,
   "metadata": {},
   "outputs": [],
   "source": [
    "deeplabcut.create_labeled_video(config_path, new_videos, filtered=True, videotype = 'mp4', save_frames=False)"
   ]
  },
  {
   "cell_type": "markdown",
   "metadata": {},
   "source": [
    "### Extract outlier frames"
   ]
  },
  {
   "cell_type": "markdown",
   "metadata": {},
   "source": [
    "Now this is the interesting part. Instead of including more videos to the project directly, and extracting frames as usual with kmeans, we are taking advantage of the previous model to tell us what frames exactly to label. This active learning step helps us recognize the shortcomings of our model and correct it in a targeted manner."
   ]
  },
  {
   "cell_type": "code",
   "execution_count": null,
   "metadata": {},
   "outputs": [],
   "source": [
    "deeplabcut.extract_outlier_frames(config_path, new_videos, automatic=True)"
   ]
  },
  {
   "cell_type": "markdown",
   "metadata": {},
   "source": [
    "Now that we have extracted new frames, we need to go back and start labeling. Instead of starting from the beginning, though, we are provided the model predictions and have to drag and drop them in place. **Note:** Make sure to remove labels that are not visible, the model will often guess the expected position based on learned geometric constraints. "
   ]
  },
  {
   "cell_type": "code",
   "execution_count": null,
   "metadata": {},
   "outputs": [],
   "source": [
    "deeplabcut.refine_labels(config_path)"
   ]
  },
  {
   "cell_type": "markdown",
   "metadata": {},
   "source": [
    "You can again plot your labeled frames to check annotation accuracy."
   ]
  },
  {
   "cell_type": "code",
   "execution_count": null,
   "metadata": {},
   "outputs": [],
   "source": [
    "deeplabcut.check_labels(config_path)"
   ]
  },
  {
   "cell_type": "markdown",
   "metadata": {},
   "source": [
    "At this point you could get an error message like [this](https://github.com/DeepLabCut/DeepLabCut/issues/232) telling you that saving the video path failed. In this case, you need to add the new video paths manually for DLC to include these in the new training set. You can either add them by hand, writing in the config.yaml file in the same format as the first video paths (see [here](https://github.com/DeepLabCut/DeepLabCut/issues/663#issuecomment-619274975)), or you can run the following command to add the list of videos to your config file:"
   ]
  },
  {
   "cell_type": "code",
   "execution_count": null,
   "metadata": {},
   "outputs": [],
   "source": [
    "deeplabcut.add_new_videos(config_path, new_videos, copy_videos=False)"
   ]
  },
  {
   "cell_type": "markdown",
   "metadata": {},
   "source": [
    "If the permission error persists, try starting a new anaconda terminal as administrator (right click > run as administrator) and then starting jupyter notebook with elevated privileges."
   ]
  },
  {
   "cell_type": "markdown",
   "metadata": {},
   "source": [
    "### Merge Datasets"
   ]
  },
  {
   "cell_type": "markdown",
   "metadata": {},
   "source": [
    "After refining all outlier frames extracted above, merge the datasets to combine old and new labels in your project. "
   ]
  },
  {
   "cell_type": "code",
   "execution_count": null,
   "metadata": {},
   "outputs": [],
   "source": [
    "deeplabcut.merge_datasets(config_path)"
   ]
  },
  {
   "cell_type": "code",
   "execution_count": null,
   "metadata": {},
   "outputs": [],
   "source": [
    "deeplabcut.create_training_dataset(config_path, net_type='resnet_50', augmenter_type='imgaug')"
   ]
  },
  {
   "cell_type": "markdown",
   "metadata": {},
   "source": [
    "**Note:** Make sure that the new videos have been included in the config.yaml file without permission issues (see above)."
   ]
  },
  {
   "cell_type": "markdown",
   "metadata": {},
   "source": [
    "### Re-Train Network"
   ]
  },
  {
   "cell_type": "markdown",
   "metadata": {},
   "source": [
    "When training a new model with an expanded dataset, you could either choose to start fresh with new data, or use the previous model as pre-trained network for your next model. Although not yet extensively verified, lets belief that transfer learning at least won't harm the new model. "
   ]
  },
  {
   "cell_type": "code",
   "execution_count": null,
   "metadata": {},
   "outputs": [],
   "source": [
    "pose_cfg =  filedialog.askopenfilename(title='Choose DeepLabCut pose_cfg.yaml file from dlc-models:')\n",
    "import webbrowser\n",
    "webbrowser.open(pose_cfg)\n",
    "print('Please edit init_weights to include the path to the last pre-trained model...')"
   ]
  },
  {
   "cell_type": "code",
   "execution_count": null,
   "metadata": {},
   "outputs": [],
   "source": [
    "# Example of own pre-trained model\n",
    "init_weights: D:\\FacialExpression\\old-DLC-Project\\dlc-models\\iteration-0\\DLCApr14-trainset95shuffle1\\train\\snapshot-1030000"
   ]
  },
  {
   "cell_type": "code",
   "execution_count": null,
   "metadata": {},
   "outputs": [],
   "source": [
    "\n",
    "deeplabcut.train_network(config_path, shuffle=1, displayiters=100, saveiters=1000)"
   ]
  },
  {
   "cell_type": "markdown",
   "metadata": {},
   "source": [
    "## Start over again..."
   ]
  }
 ],
 "metadata": {
  "interpreter": {
   "hash": "9cf59f4f35cbd5b03b7320385623601e0d1d6065449752291df1bcf50543fed6"
  },
  "kernelspec": {
   "display_name": "Python 3 (ipykernel)",
   "language": "python",
   "name": "python3"
  },
  "language_info": {
   "codemirror_mode": {
    "name": "ipython",
    "version": 3
   },
   "file_extension": ".py",
   "mimetype": "text/x-python",
   "name": "python",
   "nbconvert_exporter": "python",
   "pygments_lexer": "ipython3",
   "version": "3.8.2"
  }
 },
 "nbformat": 4,
 "nbformat_minor": 4
}